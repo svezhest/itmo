{
 "cells": [
  {
   "cell_type": "code",
   "execution_count": 10,
   "metadata": {
    "collapsed": false,
    "pycharm": {
     "name": "#%%\n"
    }
   },
   "outputs": [
    {
     "name": "stdout",
     "output_type": "stream",
     "text": [
      "Populating the interactive namespace from numpy and matplotlib\n"
     ]
    }
   ],
   "source": [
    "from __future__ import division, print_function\n",
    "import warnings\n",
    "warnings.filterwarnings('ignore')\n",
    "%pylab inline\n",
    "import numpy as np\n",
    "import pandas as pd\n",
    "import matplotlib.pyplot as plt\n",
    "from sklearn.decomposition import PCA\n",
    "\n",
    "from datetime import datetime as dt\n",
    "\n",
    "from sklearn.cluster import KMeans\n",
    "from sklearn import cluster_distance\n",
    "from sklearn.manifold import TSNE\n",
    "from sklearn.cluster import SpectralClustering\n",
    "import math"
   ]
  },
  {
   "cell_type": "markdown",
   "metadata": {
    "collapsed": false,
    "pycharm": {
     "name": "#%% md\n"
    }
   },
   "source": [
    "Используем датасет NBA"
   ]
  },
  {
   "cell_type": "code",
   "execution_count": 11,
   "metadata": {
    "collapsed": false,
    "pycharm": {
     "name": "#%%\n"
    }
   },
   "outputs": [
    {
     "name": "stdout",
     "output_type": "stream",
     "text": [
      "<class 'pandas.core.frame.DataFrame'>\n",
      "RangeIndex: 429 entries, 0 to 428\n",
      "Data columns (total 14 columns):\n",
      " #   Column       Non-Null Count  Dtype \n",
      "---  ------       --------------  ----- \n",
      " 0   full_name    429 non-null    object\n",
      " 1   rating       429 non-null    int64 \n",
      " 2   jersey       429 non-null    object\n",
      " 3   team         406 non-null    object\n",
      " 4   position     429 non-null    object\n",
      " 5   b_day        429 non-null    object\n",
      " 6   height       429 non-null    object\n",
      " 7   weight       429 non-null    object\n",
      " 8   salary       429 non-null    object\n",
      " 9   country      429 non-null    object\n",
      " 10  draft_year   429 non-null    int64 \n",
      " 11  draft_round  429 non-null    object\n",
      " 12  draft_peak   429 non-null    object\n",
      " 13  college      363 non-null    object\n",
      "dtypes: int64(2), object(12)\n",
      "memory usage: 47.0+ KB\n"
     ]
    }
   ],
   "source": [
    "df = pd.read_csv('./nba2k20-full.csv')\n",
    "df.info()"
   ]
  },
  {
   "cell_type": "code",
   "execution_count": 12,
   "metadata": {
    "collapsed": false,
    "pycharm": {
     "name": "#%%\n"
    }
   },
   "outputs": [
    {
     "data": {
      "text/html": [
       "<div>\n",
       "<style scoped>\n",
       "    .dataframe tbody tr th:only-of-type {\n",
       "        vertical-align: middle;\n",
       "    }\n",
       "\n",
       "    .dataframe tbody tr th {\n",
       "        vertical-align: top;\n",
       "    }\n",
       "\n",
       "    .dataframe thead th {\n",
       "        text-align: right;\n",
       "    }\n",
       "</style>\n",
       "<table border=\"1\" class=\"dataframe\">\n",
       "  <thead>\n",
       "    <tr style=\"text-align: right;\">\n",
       "      <th></th>\n",
       "      <th>height</th>\n",
       "      <th>age</th>\n",
       "      <th>salary</th>\n",
       "      <th>rating_category</th>\n",
       "    </tr>\n",
       "  </thead>\n",
       "  <tbody>\n",
       "    <tr>\n",
       "      <th>0</th>\n",
       "      <td>2.06</td>\n",
       "      <td>36</td>\n",
       "      <td>37436858</td>\n",
       "      <td>1</td>\n",
       "    </tr>\n",
       "    <tr>\n",
       "      <th>1</th>\n",
       "      <td>2.01</td>\n",
       "      <td>29</td>\n",
       "      <td>32742000</td>\n",
       "      <td>1</td>\n",
       "    </tr>\n",
       "    <tr>\n",
       "      <th>2</th>\n",
       "      <td>2.11</td>\n",
       "      <td>26</td>\n",
       "      <td>25842697</td>\n",
       "      <td>1</td>\n",
       "    </tr>\n",
       "    <tr>\n",
       "      <th>3</th>\n",
       "      <td>2.08</td>\n",
       "      <td>32</td>\n",
       "      <td>37199000</td>\n",
       "      <td>1</td>\n",
       "    </tr>\n",
       "    <tr>\n",
       "      <th>4</th>\n",
       "      <td>1.96</td>\n",
       "      <td>31</td>\n",
       "      <td>38199000</td>\n",
       "      <td>1</td>\n",
       "    </tr>\n",
       "  </tbody>\n",
       "</table>\n",
       "</div>"
      ],
      "text/plain": [
       "   height  age    salary  rating_category\n",
       "0    2.06   36  37436858                1\n",
       "1    2.01   29  32742000                1\n",
       "2    2.11   26  25842697                1\n",
       "3    2.08   32  37199000                1\n",
       "4    1.96   31  38199000                1"
      ]
     },
     "execution_count": 12,
     "metadata": {},
     "output_type": "execute_result"
    }
   ],
   "source": [
    "# распределение рейтинга на категории\n",
    "\n",
    "def category_by_rating(rating):\n",
    "    # 67 to 97\n",
    "    if rating > 91:\n",
    "        return 1\n",
    "    elif rating > 85:\n",
    "        return 2\n",
    "    elif rating > 79:\n",
    "        return 3\n",
    "    elif rating > 73:\n",
    "        return 4\n",
    "    else:\n",
    "        return 5\n",
    "\n",
    "# вычисление возроста\n",
    "start_day = dt.strptime('01/01/21', '%d/%m/%y')\n",
    "def age_by_bdate(bdate):\n",
    "    date = dt.strptime(bdate, '%m/%d/%y')\n",
    "    dif = start_day - date\n",
    "    return int(dif.days / 365.2425)\n",
    "\n",
    "df.replace('', np.nan, inplace=True)\n",
    "df.dropna()\n",
    "df.head()\n",
    "\n",
    "new_df = pd.DataFrame()\n",
    "new_df['height'] = df['height'].map(lambda s: s.split('/')[1][1:]).astype(float)\n",
    "new_df['age'] = df['b_day'].apply(age_by_bdate)\n",
    "new_df['salary'] = df['salary'].apply(lambda s: int(s[1:]))\n",
    "new_df['rating_category'] = df['rating'].apply(category_by_rating)\n",
    "new_df.head()"
   ]
  },
  {
   "cell_type": "code",
   "execution_count": 13,
   "metadata": {
    "collapsed": false,
    "pycharm": {
     "name": "#%%\n"
    }
   },
   "outputs": [],
   "source": [
    "def dist(x, y):\n",
    "    return math.sqrt(x ** 2 + y ** 2)\n",
    "\n",
    "def cluster_distance(xs, ys, labels):\n",
    "    assert len(xs) == len(ys)\n",
    "    size = len(xs)\n",
    "    inner = 0\n",
    "    ins = 0\n",
    "    outs = 0\n",
    "    outer = 0\n",
    "    for i in range(0, size):\n",
    "        for j in range(i + 1, size):\n",
    "            if labels[i] == labels[j] and labels[i]:\n",
    "                inner += dist(xs[i] - xs[j], ys[i] - ys[j])\n",
    "                ins += 1\n",
    "            if labels[i] != labels[j]:\n",
    "                outer += dist(xs[i] - xs[j], ys[i] - ys[j])\n",
    "                outs += 1\n",
    "    innerCluster = inner/ins\n",
    "    outerCluster = outer/outs\n",
    "    print(\"Среднее внутрикластерное расстояние:\", innerCluster)\n",
    "    print(\"Среднее межкластерное расстояние:\", outerCluster)"
   ]
  },
  {
   "cell_type": "code",
   "execution_count": 14,
   "metadata": {
    "collapsed": false,
    "pycharm": {
     "name": "#%%\n"
    }
   },
   "outputs": [
    {
     "name": "stdout",
     "output_type": "stream",
     "text": [
      "Projecting 4-dimensional data to 2D\n"
     ]
    },
    {
     "data": {
      "image/png": "[encoded data removed]",
      "text/plain": [
       "<Figure size 720x504 with 1 Axes>"
      ]
     },
     "metadata": {
      "needs_background": "light"
     },
     "output_type": "display_data"
    }
   ],
   "source": [
    "tsne = TSNE(n_components=2, random_state=42)\n",
    "\n",
    "X_reduced = tsne.fit_transform(new_df)\n",
    "\n",
    "colors = np.where(new_df['rating_category'] == 1, 'r', \n",
    "np.where(new_df['rating_category'] == 2, 'b', \n",
    "np.where(new_df['rating_category'] == 3, 'y', \n",
    "np.where(new_df['rating_category'] == 4, 'purple', 'g'))))\n",
    "\n",
    "print('Projecting %d-dimensional data to 2D' % new_df.shape[1])\n",
    "\n",
    "plt.figure(figsize=(10,7))\n",
    "plt.scatter(X_reduced[:, 0], X_reduced[:, 1], c=colors, s=70)\n",
    "plt.show()"
   ]
  },
  {
   "cell_type": "code",
   "execution_count": 15,
   "metadata": {
    "collapsed": false,
    "pycharm": {
     "name": "#%%\n"
    }
   },
   "outputs": [
    {
     "data": {
      "image/png": "[encoded data removed]",
      "text/plain": [
       "<Figure size 720x576 with 1 Axes>"
      ]
     },
     "metadata": {
      "needs_background": "light"
     },
     "output_type": "display_data"
    }
   ],
   "source": [
    "sc = SpectralClustering(n_clusters=3).fit(X_reduced)\n",
    "\n",
    "plt.figure(figsize=(10,8))\n",
    "plt.scatter(X_reduced[:,0], X_reduced[:,1], s=30, c=sc.labels_)\n",
    "plt.show()"
   ]
  },
  {
   "cell_type": "code",
   "execution_count": 16,
   "metadata": {
    "collapsed": false,
    "pycharm": {
     "name": "#%%\n"
    }
   },
   "outputs": [
    {
     "name": "stdout",
     "output_type": "stream",
     "text": [
      "Среднее внутрикластерное расстояние: 2.1859003447491476\n",
      "Среднее межкластерное расстояние: 33.78212852125795\n"
     ]
    }
   ],
   "source": [
    "cluster_distance(X_reduced[:,0], X_reduced[:,1], sc.labels_)"
   ]
  }
 ],
 "metadata": {
  "kernelspec": {
   "display_name": "Python 3",
   "language": "python",
   "name": "python3"
  },
  "language_info": {
   "codemirror_mode": {
    "name": "ipython",
    "version": 3
   },
   "file_extension": ".py",
   "mimetype": "text/x-python",
   "name": "python",
   "nbconvert_exporter": "python",
   "pygments_lexer": "ipython3",
   "version": "3.9.7"
  }
 },
 "nbformat": 4,
 "nbformat_minor": 0
}
